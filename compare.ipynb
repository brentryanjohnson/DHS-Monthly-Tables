{
 "cells": [
  {
   "cell_type": "code",
   "execution_count": 3,
   "id": "7bee4d5d-60b5-44af-84d7-b5a9610e2df7",
   "metadata": {
    "scrolled": true
   },
   "outputs": [],
   "source": [
    "import csv\n",
    "\n",
    "def compare_csv(file1, file2, output_file):\n",
    "    with open(file1, newline='') as f1, open(file2, newline='') as f2, open(output_file, 'w', newline='') as out:\n",
    "        reader1 = list(csv.reader(f1))\n",
    "        reader2 = list(csv.reader(f2))\n",
    "        writer = csv.writer(out)\n",
    "        \n",
    "        max_len = max(len(reader1), len(reader2))\n",
    "        for i in range(max_len):\n",
    "            row1 = reader1[i] if i < len(reader1) else [''] * len(reader1[0])\n",
    "            row2 = reader2[i] if i < len(reader2) else [''] * len(reader2[0])\n",
    "            if row1 != row2:\n",
    "                writer.writerow(['Difference at row {}'.format(i+1)])\n",
    "                writer.writerow(row1)\n",
    "                writer.writerow(row2)\n",
    "                writer.writerow([])  # Blank row for separation\n",
    "\n",
    "file1 = 'ielp-table-202408.csv'\n",
    "file2 = 'output.csv'\n",
    "output_file = 'differences.csv'\n",
    "compare_csv(file1, file2, output_file)"
   ]
  }
 ],
 "metadata": {
  "kernelspec": {
   "display_name": "Python 3 (ipykernel)",
   "language": "python",
   "name": "python3"
  },
  "language_info": {
   "codemirror_mode": {
    "name": "ipython",
    "version": 3
   },
   "file_extension": ".py",
   "mimetype": "text/x-python",
   "name": "python",
   "nbconvert_exporter": "python",
   "pygments_lexer": "ipython3",
   "version": "3.8.18"
  }
 },
 "nbformat": 4,
 "nbformat_minor": 5
}
