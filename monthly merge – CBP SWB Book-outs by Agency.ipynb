{
 "cells": [
  {
   "cell_type": "code",
   "execution_count": 1,
   "id": "340ff3de",
   "metadata": {},
   "outputs": [],
   "source": [
    "import pandas as pd\n",
    "from pandas import DataFrame\n",
    "import csv"
   ]
  },
  {
   "cell_type": "code",
   "execution_count": 2,
   "id": "808429aa",
   "metadata": {},
   "outputs": [],
   "source": [
    "ielp_sheet='2024_1206_ohss_immigration-enforcement-and-legal-processes-tables-august-2024.xlsx'"
   ]
  },
  {
   "cell_type": "code",
   "execution_count": 3,
   "id": "20866150",
   "metadata": {},
   "outputs": [],
   "source": [
    "df = pd.read_excel(ielp_sheet, sheet_name='CBP SWB Book-Outs by Agency')"
   ]
  },
  {
   "cell_type": "code",
   "execution_count": 4,
   "id": "7aa71b00",
   "metadata": {},
   "outputs": [],
   "source": [
    "df.columns = df.iloc[2]"
   ]
  },
  {
   "cell_type": "code",
   "execution_count": 5,
   "id": "1166cfec",
   "metadata": {},
   "outputs": [
    {
     "name": "stdout",
     "output_type": "stream",
     "text": [
      "Index(['Fiscal Year', 'Month', 'Total Encounters', 'T8 repatriations1',\n",
      "       'T42 expulsions2', 'Migrant Protection Protocols3', 'Transfers to ICE4',\n",
      "       'Transfers to HHS5', 'USBP Releases6', 'OFO Paroles7',\n",
      "       'Other outcomes8', 'Total Encounters', 'T8 repatriations1',\n",
      "       'T42 expulsions2', 'Migrant Protection Protocols3', 'Transfers to ICE4',\n",
      "       'Transfers to HHS5', 'USBP Releases6', 'Other outcomes8',\n",
      "       'Total Encounters', 'T8 repatriations1', 'T42 expulsions2',\n",
      "       'Migrant Protection Protocols3', 'Transfers to ICE4',\n",
      "       'Transfers to HHS5', 'OFO Paroles7', 'Other outcomes8'],\n",
      "      dtype='object', name=2)\n"
     ]
    }
   ],
   "source": [
    "print(df.columns)"
   ]
  },
  {
   "cell_type": "code",
   "execution_count": 6,
   "id": "3d8f207a",
   "metadata": {},
   "outputs": [],
   "source": [
    "replace_with = {'Total': 0, 'January': 1, 'February': 2, 'March': 3, 'April': 4, 'May': 5, 'June': 6, 'July': 7, 'August': 8, 'September': 9, 'October': 10, 'November': 11, 'December': 12}\n",
    "df['Month'].replace(replace_with, inplace=True)"
   ]
  },
  {
   "cell_type": "code",
   "execution_count": 7,
   "id": "3e5ce38d",
   "metadata": {
    "scrolled": true
   },
   "outputs": [
    {
     "name": "stdout",
     "output_type": "stream",
     "text": [
      "2                                          Fiscal Year  Month  \\\n",
      "0    CBP SW Border Encounters Book-Outs by Agency: ...    NaN   \n",
      "1                                                  NaN    NaN   \n",
      "2                                          Fiscal Year  Month   \n",
      "3                                                 2014      0   \n",
      "4                                                  NaN     10   \n",
      "..                                                 ...    ...   \n",
      "151  6Includes individuals processed by USBP with a...    NaN   \n",
      "152  7Includes individuals processed at a POE and r...    NaN   \n",
      "153  8Includes transfers to other law enforcement a...    NaN   \n",
      "154  Notes: To protect privacy, table cells are rou...    NaN   \n",
      "155  Source: Office of Homeland Security Statistics...    NaN   \n",
      "\n",
      "2    Total Encounters  T8 repatriations1  T42 expulsions2  \\\n",
      "0                 NaN                NaN              NaN   \n",
      "1           Total CBP                NaN              NaN   \n",
      "2    Total Encounters  T8 repatriations1  T42 expulsions2   \n",
      "3              570050             257090                X   \n",
      "4               41840              22730                X   \n",
      "..                ...                ...              ...   \n",
      "151               NaN                NaN              NaN   \n",
      "152               NaN                NaN              NaN   \n",
      "153               NaN                NaN              NaN   \n",
      "154               NaN                NaN              NaN   \n",
      "155               NaN                NaN              NaN   \n",
      "\n",
      "2    Migrant Protection Protocols3  Transfers to ICE4  Transfers to HHS5  \\\n",
      "0                              NaN                NaN                NaN   \n",
      "1                              NaN                NaN                NaN   \n",
      "2    Migrant Protection Protocols3  Transfers to ICE4  Transfers to HHS5   \n",
      "3                                X             221300              56760   \n",
      "4                                X              13900               2790   \n",
      "..                             ...                ...                ...   \n",
      "151                            NaN                NaN                NaN   \n",
      "152                            NaN                NaN                NaN   \n",
      "153                            NaN                NaN                NaN   \n",
      "154                            NaN                NaN                NaN   \n",
      "155                            NaN                NaN                NaN   \n",
      "\n",
      "2    USBP Releases6  OFO Paroles7  ...  USBP Releases6  Other outcomes8  \\\n",
      "0               NaN           NaN  ...             NaN              NaN   \n",
      "1               NaN           NaN  ...             NaN              NaN   \n",
      "2    USBP Releases6  OFO Paroles7  ...  USBP Releases6  Other outcomes8   \n",
      "3              6520         25500  ...            6520             2760   \n",
      "4               180          2020  ...             180              200   \n",
      "..              ...           ...  ...             ...              ...   \n",
      "151             NaN           NaN  ...             NaN              NaN   \n",
      "152             NaN           NaN  ...             NaN              NaN   \n",
      "153             NaN           NaN  ...             NaN              NaN   \n",
      "154             NaN           NaN  ...             NaN              NaN   \n",
      "155             NaN           NaN  ...             NaN              NaN   \n",
      "\n",
      "2    Total Encounters  T8 repatriations1  T42 expulsions2  \\\n",
      "0                 NaN                NaN              NaN   \n",
      "1                 OFO                NaN              NaN   \n",
      "2    Total Encounters  T8 repatriations1  T42 expulsions2   \n",
      "3               90680              39630                X   \n",
      "4                6520               3140                X   \n",
      "..                ...                ...              ...   \n",
      "151               NaN                NaN              NaN   \n",
      "152               NaN                NaN              NaN   \n",
      "153               NaN                NaN              NaN   \n",
      "154               NaN                NaN              NaN   \n",
      "155               NaN                NaN              NaN   \n",
      "\n",
      "2    Migrant Protection Protocols3  Transfers to ICE4  Transfers to HHS5  \\\n",
      "0                              NaN                NaN                NaN   \n",
      "1                              NaN                NaN                NaN   \n",
      "2    Migrant Protection Protocols3  Transfers to ICE4  Transfers to HHS5   \n",
      "3                                X              22280               3140   \n",
      "4                                X               1210                140   \n",
      "..                             ...                ...                ...   \n",
      "151                            NaN                NaN                NaN   \n",
      "152                            NaN                NaN                NaN   \n",
      "153                            NaN                NaN                NaN   \n",
      "154                            NaN                NaN                NaN   \n",
      "155                            NaN                NaN                NaN   \n",
      "\n",
      "2    OFO Paroles7  Other outcomes8  \n",
      "0             NaN              NaN  \n",
      "1             NaN              NaN  \n",
      "2    OFO Paroles7  Other outcomes8  \n",
      "3           25500              130  \n",
      "4            2020               10  \n",
      "..            ...              ...  \n",
      "151           NaN              NaN  \n",
      "152           NaN              NaN  \n",
      "153           NaN              NaN  \n",
      "154           NaN              NaN  \n",
      "155           NaN              NaN  \n",
      "\n",
      "[156 rows x 27 columns]\n"
     ]
    }
   ],
   "source": [
    "print(df)"
   ]
  },
  {
   "cell_type": "code",
   "execution_count": 8,
   "id": "503e30ab",
   "metadata": {},
   "outputs": [],
   "source": [
    "df = df.iloc[3:]"
   ]
  },
  {
   "cell_type": "code",
   "execution_count": 9,
   "id": "783a9a6a",
   "metadata": {},
   "outputs": [],
   "source": [
    "df = df[:-11]"
   ]
  },
  {
   "cell_type": "code",
   "execution_count": 10,
   "id": "7ccd58ad",
   "metadata": {},
   "outputs": [],
   "source": [
    "# Deduplicates columns\n",
    "\n",
    "cols=pd.Series(df.columns)\n",
    "for dup in df.columns[df.columns.duplicated(keep=False)]: \n",
    "    cols[df.columns.get_loc(dup)] = ([dup + '.' + str(d_idx) \n",
    "                                     if d_idx != 0 \n",
    "                                     else dup \n",
    "                                     for d_idx in range(df.columns.get_loc(dup).sum())]\n",
    "                                    )\n",
    "df.columns=cols"
   ]
  },
  {
   "cell_type": "code",
   "execution_count": 11,
   "id": "e38bbff8",
   "metadata": {
    "scrolled": true
   },
   "outputs": [
    {
     "name": "stdout",
     "output_type": "stream",
     "text": [
      "Index(['Fiscal Year', 'Month', 'Total Encounters', 'T8 repatriations1',\n",
      "       'T42 expulsions2', 'Migrant Protection Protocols3', 'Transfers to ICE4',\n",
      "       'Transfers to HHS5', 'USBP Releases6', 'OFO Paroles7',\n",
      "       'Other outcomes8', 'Total Encounters.1', 'T8 repatriations1.1',\n",
      "       'T42 expulsions2.1', 'Migrant Protection Protocols3.1',\n",
      "       'Transfers to ICE4.1', 'Transfers to HHS5.1', 'USBP Releases6.1',\n",
      "       'Other outcomes8.1', 'Total Encounters.2', 'T8 repatriations1.2',\n",
      "       'T42 expulsions2.2', 'Migrant Protection Protocols3.2',\n",
      "       'Transfers to ICE4.2', 'Transfers to HHS5.2', 'OFO Paroles7.1',\n",
      "       'Other outcomes8.2'],\n",
      "      dtype='object', name=2)\n"
     ]
    }
   ],
   "source": [
    "print(df.columns)"
   ]
  },
  {
   "cell_type": "code",
   "execution_count": 12,
   "id": "b8f608bf",
   "metadata": {},
   "outputs": [],
   "source": [
    "df.rename(columns={\"T8 repatriations1\": \"Southwest Border Book-outs/CBP:T8 repatriations\", \"T8 repatriations1.1\": \"Southwest Border Book-outs/USBP:T8 repatriations\", \"T8 repatriations1.2\": \"Southwest Border Book-outs/OFO:T8 repatriations\", \"T42 expulsions2\": \"Southwest Border Book-outs/CBP:T42 expulsions\", \"T42 expulsions2.1\": \"Southwest Border Book-outs/USBP:T42 expulsions\", \"T42 expulsions2.2\": \"Southwest Border Book-outs/OFO:T42 expulsions\", \"Migrant Protection Protocols3\": \"Southwest Border Book-outs/CBP:Migrant Protection Protocols\", \"Migrant Protection Protocols3.1\": \"Southwest Border Book-outs/USBP:Migrant Protection Protocols\", \"Migrant Protection Protocols3.2\": \"Southwest Border Book-outs/OFO:Migrant Protection Protocols\", \"Transfers to HHS5\": \"Southwest Border Book-outs/CBP:Transfers to HHS\", \"Transfers to HHS5.1\": \"Southwest Border Book-outs/USBP:Transfers to HHS\", \"Transfers to HHS5.2\": \"Southwest Border Book-outs/OFO:Transfers to HHS\", \"Total Encounters\": \"Southwest Border Book-outs/CBP:Total\", \"Total Encounters.1\": \"Southwest Border Book-outs/USBP:Total\", \"Total Encounters.2\": \"Southwest Border Book-outs/OFO:Total\", \"Other outcomes8.2\": \"Southwest Border Book-outs/OFO:Other outcomes\", \"OFO Paroles7.1\": \"Southwest Border Book-outs/OFO:OFO Paroles\", \"Transfers to ICE4.2\": \"Southwest Border Book-outs/OFO:Transfers to ICE\", \"Other outcomes8.1\": \"Southwest Border Book-outs/USBP:Other outcomes\", \"USBP Releases6.1\": \"Southwest Border Book-outs/USBP:USBP Releases\", \"Transfers to ICE4\": \"Southwest Border Book-outs/CBP:Transfers to ICE\", \"USBP Releases6\": \"Southwest Border Book-outs/CBP:USBP Releases\", \"OFO Paroles7\": \"Southwest Border Book-outs/CBP:OFO Paroles\", \"Other outcomes8\": \"Southwest Border Book-outs/CBP:Other outcomes\", \"Transfers to ICE4.1\": \"Southwest Border Book-outs/USBP:Transfers to ICE\"}, inplace=True)"
   ]
  },
  {
   "cell_type": "code",
   "execution_count": 31,
   "id": "95787fe2",
   "metadata": {},
   "outputs": [],
   "source": [
    "# Removes 'YTD' from Fiscal Year\n",
    "\n",
    "df['Fiscal Year'].replace(regex=True,inplace=True,to_replace=r'\\D',value=r'')"
   ]
  },
  {
   "cell_type": "code",
   "execution_count": 14,
   "id": "92115e2f",
   "metadata": {},
   "outputs": [],
   "source": [
    "# Fills in empty rows with fiscal year\n",
    "\n",
    "df['Fiscal Year'].fillna(method='pad', inplace=True)"
   ]
  },
  {
   "cell_type": "code",
   "execution_count": 15,
   "id": "34ca8918",
   "metadata": {},
   "outputs": [
    {
     "name": "stdout",
     "output_type": "stream",
     "text": [
      "Index(['Fiscal Year', 'Month', 'Southwest Border Book-outs/CBP:Total',\n",
      "       'Southwest Border Book-outs/CBP:T8 repatriations',\n",
      "       'Southwest Border Book-outs/CBP:T42 expulsions',\n",
      "       'Southwest Border Book-outs/CBP:Migrant Protection Protocols',\n",
      "       'Southwest Border Book-outs/CBP:Transfers to ICE',\n",
      "       'Southwest Border Book-outs/CBP:Transfers to HHS',\n",
      "       'Southwest Border Book-outs/CBP:USBP Releases',\n",
      "       'Southwest Border Book-outs/CBP:OFO Paroles',\n",
      "       'Southwest Border Book-outs/CBP:Other outcomes',\n",
      "       'Southwest Border Book-outs/USBP:Total',\n",
      "       'Southwest Border Book-outs/USBP:T8 repatriations',\n",
      "       'Southwest Border Book-outs/USBP:T42 expulsions',\n",
      "       'Southwest Border Book-outs/USBP:Migrant Protection Protocols',\n",
      "       'Southwest Border Book-outs/USBP:Transfers to ICE',\n",
      "       'Southwest Border Book-outs/USBP:Transfers to HHS',\n",
      "       'Southwest Border Book-outs/USBP:USBP Releases',\n",
      "       'Southwest Border Book-outs/USBP:Other outcomes',\n",
      "       'Southwest Border Book-outs/OFO:Total',\n",
      "       'Southwest Border Book-outs/OFO:T8 repatriations',\n",
      "       'Southwest Border Book-outs/OFO:T42 expulsions',\n",
      "       'Southwest Border Book-outs/OFO:Migrant Protection Protocols',\n",
      "       'Southwest Border Book-outs/OFO:Transfers to ICE',\n",
      "       'Southwest Border Book-outs/OFO:Transfers to HHS',\n",
      "       'Southwest Border Book-outs/OFO:OFO Paroles',\n",
      "       'Southwest Border Book-outs/OFO:Other outcomes'],\n",
      "      dtype='object', name=2)\n"
     ]
    }
   ],
   "source": [
    "print(df.columns)"
   ]
  },
  {
   "cell_type": "code",
   "execution_count": 16,
   "id": "d1721e78",
   "metadata": {},
   "outputs": [],
   "source": [
    "df2 = pd.read_excel(ielp_sheet, sheet_name='DHS Repats by Type')"
   ]
  },
  {
   "cell_type": "code",
   "execution_count": 17,
   "id": "5bca2512",
   "metadata": {},
   "outputs": [],
   "source": [
    "df2.columns = df2.iloc[2]"
   ]
  },
  {
   "cell_type": "code",
   "execution_count": 18,
   "id": "e3bdc716",
   "metadata": {},
   "outputs": [
    {
     "name": "stdout",
     "output_type": "stream",
     "text": [
      "Index(['Fiscal Year', 'Month', 'Total Repatriations3',\n",
      "       'Total Title 8 Repatriations4', 'Title 8 Enforcement Repatriations5',\n",
      "       'Title 42 Expulsions6', 'Total Removals', 'Expedited Removals',\n",
      "       'Reinstatements of Removal Orders', 'Other Removals',\n",
      "       'Total Enforcement Returns', 'Withdrawals7', 'Voluntary Returns',\n",
      "       'Voluntary Departures', 'Other Enforcement Returns8',\n",
      "       'Total Administrative Returns', 'Withdrawals9',\n",
      "       'Crew Members Detained'],\n",
      "      dtype='object', name=2)\n"
     ]
    }
   ],
   "source": [
    "print(df2.columns)"
   ]
  },
  {
   "cell_type": "code",
   "execution_count": 19,
   "id": "9147c1a3",
   "metadata": {},
   "outputs": [],
   "source": [
    "df2=df2[[\"Title 42 Expulsions6\", \"Total Administrative Returns\",  \"Total Enforcement Returns\", \"Total Removals\", \"Total Repatriations3\"]]"
   ]
  },
  {
   "cell_type": "code",
   "execution_count": 20,
   "id": "80f3e420",
   "metadata": {},
   "outputs": [
    {
     "name": "stdout",
     "output_type": "stream",
     "text": [
      "Index(['Title 42 Expulsions6', 'Total Administrative Returns',\n",
      "       'Total Enforcement Returns', 'Total Removals', 'Total Repatriations3'],\n",
      "      dtype='object', name=2)\n"
     ]
    }
   ],
   "source": [
    "print(df2.columns)"
   ]
  },
  {
   "cell_type": "code",
   "execution_count": 21,
   "id": "bbb8797f",
   "metadata": {},
   "outputs": [],
   "source": [
    "df2 = df2.iloc[3:]"
   ]
  },
  {
   "cell_type": "code",
   "execution_count": 22,
   "id": "b8435074",
   "metadata": {},
   "outputs": [],
   "source": [
    "df2.rename(columns={\"Title 42 Expulsions6\": \"Repatriations:Title 42 Expulsions\", \"Total Administrative Returns\": \"Repatriations:Administrative Returns\", \"Total Enforcement Returns\": \"Repatriations:Enforcement Returns\", \"Total Removals\": \"Repatriations:Removals\", \"Total Repatriations3\": \"Repatriations:Total\"}, inplace=True)"
   ]
  },
  {
   "cell_type": "code",
   "execution_count": 23,
   "id": "a1ba4866",
   "metadata": {},
   "outputs": [],
   "source": [
    "# Joins output from repatriations sheet to sw border sheet\n",
    "\n",
    "df3 = df.join(df2, how='outer')"
   ]
  },
  {
   "cell_type": "code",
   "execution_count": 24,
   "id": "3fb31e46",
   "metadata": {},
   "outputs": [
    {
     "name": "stdout",
     "output_type": "stream",
     "text": [
      "Index(['Fiscal Year', 'Month', 'Southwest Border Book-outs/CBP:Total',\n",
      "       'Southwest Border Book-outs/CBP:T8 repatriations',\n",
      "       'Southwest Border Book-outs/CBP:T42 expulsions',\n",
      "       'Southwest Border Book-outs/CBP:Migrant Protection Protocols',\n",
      "       'Southwest Border Book-outs/CBP:Transfers to ICE',\n",
      "       'Southwest Border Book-outs/CBP:Transfers to HHS',\n",
      "       'Southwest Border Book-outs/CBP:USBP Releases',\n",
      "       'Southwest Border Book-outs/CBP:OFO Paroles',\n",
      "       'Southwest Border Book-outs/CBP:Other outcomes',\n",
      "       'Southwest Border Book-outs/USBP:Total',\n",
      "       'Southwest Border Book-outs/USBP:T8 repatriations',\n",
      "       'Southwest Border Book-outs/USBP:T42 expulsions',\n",
      "       'Southwest Border Book-outs/USBP:Migrant Protection Protocols',\n",
      "       'Southwest Border Book-outs/USBP:Transfers to ICE',\n",
      "       'Southwest Border Book-outs/USBP:Transfers to HHS',\n",
      "       'Southwest Border Book-outs/USBP:USBP Releases',\n",
      "       'Southwest Border Book-outs/USBP:Other outcomes',\n",
      "       'Southwest Border Book-outs/OFO:Total',\n",
      "       'Southwest Border Book-outs/OFO:T8 repatriations',\n",
      "       'Southwest Border Book-outs/OFO:T42 expulsions',\n",
      "       'Southwest Border Book-outs/OFO:Migrant Protection Protocols',\n",
      "       'Southwest Border Book-outs/OFO:Transfers to ICE',\n",
      "       'Southwest Border Book-outs/OFO:Transfers to HHS',\n",
      "       'Southwest Border Book-outs/OFO:OFO Paroles',\n",
      "       'Southwest Border Book-outs/OFO:Other outcomes',\n",
      "       'Repatriations:Title 42 Expulsions',\n",
      "       'Repatriations:Administrative Returns',\n",
      "       'Repatriations:Enforcement Returns', 'Repatriations:Removals',\n",
      "       'Repatriations:Total'],\n",
      "      dtype='object', name=2)\n"
     ]
    }
   ],
   "source": [
    "print(df3.columns)"
   ]
  },
  {
   "cell_type": "code",
   "execution_count": 25,
   "id": "6c1a1a70",
   "metadata": {},
   "outputs": [],
   "source": [
    "df3['Calendar Year'] = None"
   ]
  },
  {
   "cell_type": "code",
   "execution_count": 26,
   "id": "1766d494",
   "metadata": {},
   "outputs": [],
   "source": [
    "df3 = df3.loc[:, ['Calendar Year', 'Fiscal Year', 'Month', 'Repatriations:Title 42 Expulsions', 'Repatriations:Administrative Returns', 'Repatriations:Enforcement Returns', 'Repatriations:Removals', 'Repatriations:Total', 'Southwest Border Book-outs/OFO:Other outcomes', 'Southwest Border Book-outs/OFO:OFO Paroles', 'Southwest Border Book-outs/OFO:Transfers to HHS', 'Southwest Border Book-outs/OFO:Transfers to ICE', 'Southwest Border Book-outs/OFO:Migrant Protection Protocols', 'Southwest Border Book-outs/OFO:T42 expulsions', 'Southwest Border Book-outs/OFO:T8 repatriations', 'Southwest Border Book-outs/OFO:Total', 'Southwest Border Book-outs/USBP:Other outcomes', 'Southwest Border Book-outs/USBP:USBP Releases', 'Southwest Border Book-outs/USBP:Transfers to HHS', 'Southwest Border Book-outs/USBP:Transfers to ICE', 'Southwest Border Book-outs/USBP:Migrant Protection Protocols', 'Southwest Border Book-outs/USBP:T42 expulsions', 'Southwest Border Book-outs/USBP:T8 repatriations', 'Southwest Border Book-outs/USBP:Total', 'Southwest Border Book-outs/CBP:Other outcomes', 'Southwest Border Book-outs/CBP:OFO Paroles', 'Southwest Border Book-outs/CBP:USBP Releases', 'Southwest Border Book-outs/CBP:Transfers to HHS', 'Southwest Border Book-outs/CBP:Transfers to ICE', 'Southwest Border Book-outs/CBP:Migrant Protection Protocols', 'Southwest Border Book-outs/CBP:T42 expulsions', 'Southwest Border Book-outs/CBP:T8 repatriations', 'Southwest Border Book-outs/CBP:Total']]"
   ]
  },
  {
   "cell_type": "code",
   "execution_count": 27,
   "id": "dbe2c024",
   "metadata": {
    "scrolled": true
   },
   "outputs": [
    {
     "name": "stdout",
     "output_type": "stream",
     "text": [
      "Index(['Calendar Year', 'Fiscal Year', 'Month',\n",
      "       'Repatriations:Title 42 Expulsions',\n",
      "       'Repatriations:Administrative Returns',\n",
      "       'Repatriations:Enforcement Returns', 'Repatriations:Removals',\n",
      "       'Repatriations:Total', 'Southwest Border Book-outs/OFO:Other outcomes',\n",
      "       'Southwest Border Book-outs/OFO:OFO Paroles',\n",
      "       'Southwest Border Book-outs/OFO:Transfers to HHS',\n",
      "       'Southwest Border Book-outs/OFO:Transfers to ICE',\n",
      "       'Southwest Border Book-outs/OFO:Migrant Protection Protocols',\n",
      "       'Southwest Border Book-outs/OFO:T42 expulsions',\n",
      "       'Southwest Border Book-outs/OFO:T8 repatriations',\n",
      "       'Southwest Border Book-outs/OFO:Total',\n",
      "       'Southwest Border Book-outs/USBP:Other outcomes',\n",
      "       'Southwest Border Book-outs/USBP:USBP Releases',\n",
      "       'Southwest Border Book-outs/USBP:Transfers to HHS',\n",
      "       'Southwest Border Book-outs/USBP:Transfers to ICE',\n",
      "       'Southwest Border Book-outs/USBP:Migrant Protection Protocols',\n",
      "       'Southwest Border Book-outs/USBP:T42 expulsions',\n",
      "       'Southwest Border Book-outs/USBP:T8 repatriations',\n",
      "       'Southwest Border Book-outs/USBP:Total',\n",
      "       'Southwest Border Book-outs/CBP:Other outcomes',\n",
      "       'Southwest Border Book-outs/CBP:OFO Paroles',\n",
      "       'Southwest Border Book-outs/CBP:USBP Releases',\n",
      "       'Southwest Border Book-outs/CBP:Transfers to HHS',\n",
      "       'Southwest Border Book-outs/CBP:Transfers to ICE',\n",
      "       'Southwest Border Book-outs/CBP:Migrant Protection Protocols',\n",
      "       'Southwest Border Book-outs/CBP:T42 expulsions',\n",
      "       'Southwest Border Book-outs/CBP:T8 repatriations',\n",
      "       'Southwest Border Book-outs/CBP:Total'],\n",
      "      dtype='object', name=2)\n"
     ]
    }
   ],
   "source": [
    "print(df3.columns)"
   ]
  },
  {
   "cell_type": "code",
   "execution_count": 28,
   "id": "3d8343ff",
   "metadata": {},
   "outputs": [],
   "source": [
    "# Derives Calendar Year from Fiscal Year\n",
    "\n",
    "df3['Fiscal Year'] = pd.to_numeric(df3['Fiscal Year'])\n",
    "\n",
    "cy_months = [0, 10, 11, 12]\n",
    "\n",
    "df3['Calendar Year'] = df3['Fiscal Year']\n",
    "\n",
    "df3.loc[df3['Month'].isin(cy_months), 'Calendar Year'] = df3['Fiscal Year'] - 1"
   ]
  },
  {
   "cell_type": "code",
   "execution_count": 29,
   "id": "e57e1aad",
   "metadata": {},
   "outputs": [],
   "source": [
    "df3.to_csv('output_1.csv', index=False, float_format='%.0f')"
   ]
  },
  {
   "cell_type": "code",
   "execution_count": 30,
   "id": "7bd73d54-6af6-4e6e-9c76-2b9f8839ff29",
   "metadata": {},
   "outputs": [],
   "source": [
    "# Removes empty rows from initial output\n",
    "\n",
    "with open('output_1.csv', newline='') as in_file:\n",
    "    with open('output.csv', 'w', newline='') as out_file:\n",
    "        writer = csv.writer(out_file)\n",
    "        for row in csv.reader(in_file):\n",
    "            if any(row):\n",
    "                writer.writerow(row)"
   ]
  }
 ],
 "metadata": {
  "kernelspec": {
   "display_name": "Python 3 (ipykernel)",
   "language": "python",
   "name": "python3"
  },
  "language_info": {
   "codemirror_mode": {
    "name": "ipython",
    "version": 3
   },
   "file_extension": ".py",
   "mimetype": "text/x-python",
   "name": "python",
   "nbconvert_exporter": "python",
   "pygments_lexer": "ipython3",
   "version": "3.8.18"
  }
 },
 "nbformat": 4,
 "nbformat_minor": 5
}
